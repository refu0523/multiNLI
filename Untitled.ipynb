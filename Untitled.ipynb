{
 "cells": [
  {
   "cell_type": "code",
   "execution_count": 1,
   "metadata": {},
   "outputs": [],
   "source": [
    "import pickle"
   ]
  },
  {
   "cell_type": "code",
   "execution_count": 9,
   "metadata": {},
   "outputs": [],
   "source": [
    "file = 'petModel-FM.p'\n",
    "f_ = open(file,'rb')\n",
    "dic_file2 = pickle.load(f_)"
   ]
  },
  {
   "cell_type": "code",
   "execution_count": 28,
   "metadata": {},
   "outputs": [
    {
     "name": "stdout",
     "output_type": "stream",
     "text": [
      "24133\n"
     ]
    }
   ],
   "source": [
    "print(dic_file2['China'])"
   ]
  },
  {
   "cell_type": "code",
   "execution_count": 10,
   "metadata": {},
   "outputs": [],
   "source": [
    "snli_realtionship_feat = {}\n",
    "for i in range(12):\n",
    "    f_name = './snli_subset/snli_train_subset'+str(i+1)+'_relationship_feat.pkl'\n",
    "    tmp_dic = pickle.load(open(f_name,'rb'))\n",
    "    snli_realtionship_feat.update(tmp_dic)\n"
   ]
  },
  {
   "cell_type": "code",
   "execution_count": 30,
   "metadata": {},
   "outputs": [],
   "source": [
    "turn_word2index_dic = {}\n",
    "for key,val in snli_realtionship_feat.items():\n",
    "    if key[0] in dic_file2 and key[1] in dic_file2:\n",
    "        word1_idx = dic_file2[key[0]]\n",
    "        word2_idx = dic_file2[key[1]]\n",
    "    turn_word2index_dic[(word1_idx,word2_idx)] = val"
   ]
  },
  {
   "cell_type": "code",
   "execution_count": 31,
   "metadata": {},
   "outputs": [],
   "source": [
    "output = open('snli_trainAll_realtionship_feat_word2index.pkl', 'wb')\n",
    "pickle.dump(turn_word2index_dic, output)\n",
    "output.close()"
   ]
  },
  {
   "cell_type": "code",
   "execution_count": 32,
   "metadata": {},
   "outputs": [
    {
     "name": "stdout",
     "output_type": "stream",
     "text": [
      "4310148\n"
     ]
    }
   ],
   "source": [
    "print(len(turn_word2index_dic))"
   ]
  },
  {
   "cell_type": "code",
   "execution_count": 33,
   "metadata": {},
   "outputs": [
    {
     "name": "stdout",
     "output_type": "stream",
     "text": [
      "4407082\n"
     ]
    }
   ],
   "source": [
    "print(len(snli_realtionship_feat))"
   ]
  },
  {
   "cell_type": "code",
   "execution_count": null,
   "metadata": {},
   "outputs": [],
   "source": []
  }
 ],
 "metadata": {
  "kernelspec": {
   "display_name": "Python 3",
   "language": "python",
   "name": "python3"
  },
  "language_info": {
   "codemirror_mode": {
    "name": "ipython",
    "version": 3
   },
   "file_extension": ".py",
   "mimetype": "text/x-python",
   "name": "python",
   "nbconvert_exporter": "python",
   "pygments_lexer": "ipython3",
   "version": "3.5.4"
  }
 },
 "nbformat": 4,
 "nbformat_minor": 2
}
